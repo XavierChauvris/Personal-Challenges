{
 "cells": [
  {
   "cell_type": "markdown",
   "id": "a95f6142",
   "metadata": {},
   "source": [
    "# Easy Challenges"
   ]
  },
  {
   "cell_type": "markdown",
   "id": "d976c7d8",
   "metadata": {},
   "source": [
    "## Ballpark Order"
   ]
  },
  {
   "cell_type": "code",
   "execution_count": 82,
   "id": "2572f4fa",
   "metadata": {},
   "outputs": [
    {
     "name": "stdout",
     "output_type": "stream",
     "text": [
      "Water Water Water Water\n",
      "Total order is: $17.12\n"
     ]
    }
   ],
   "source": [
    "order = input()\n",
    "final_order = order.split()\n",
    "tax = 0.07\n",
    "total = 0\n",
    "\n",
    "for item in final_order:\n",
    "    if item == 'Nachos' or item == 'Pizza':\n",
    "        total += 6\n",
    "        \n",
    "    elif item == 'Cheeseburger':\n",
    "        total += 10\n",
    "        \n",
    "    elif item == 'Water':\n",
    "        total += 4\n",
    "        \n",
    "    else:\n",
    "        total += 5\n",
    "        \n",
    "        \n",
    "total_tax = total * (1 + tax)\n",
    "\n",
    "print(f'Total order is: ${total_tax:,.2f}')\n",
    "\n"
   ]
  },
  {
   "cell_type": "markdown",
   "id": "d3a7f386",
   "metadata": {},
   "source": [
    "## Vowel Counter"
   ]
  },
  {
   "cell_type": "code",
   "execution_count": 83,
   "id": "3645282d",
   "metadata": {},
   "outputs": [
    {
     "name": "stdout",
     "output_type": "stream",
     "text": [
      "what's up\n",
      "Number of vowels: 2\n"
     ]
    }
   ],
   "source": [
    "string = input()\n",
    "vowel = {'a', 'e', 'i', 'o', 'u'}\n",
    "num_vowel = 0\n",
    "\n",
    "for elem in string:\n",
    "    if elem.lower() in vowel:\n",
    "        num_vowel += 1\n",
    "        \n",
    "print(f'Number of vowels: {num_vowel}')\n",
    "        "
   ]
  },
  {
   "cell_type": "markdown",
   "id": "928a13e7",
   "metadata": {},
   "source": [
    "## Popsicles"
   ]
  },
  {
   "cell_type": "code",
   "execution_count": 73,
   "id": "cca4a64a",
   "metadata": {},
   "outputs": [
    {
     "name": "stdout",
     "output_type": "stream",
     "text": [
      "2\n",
      "5\n",
      "eat them  yourself\n"
     ]
    }
   ],
   "source": [
    "num_sib = int(input())\n",
    "num_lol = int(input())\n",
    "left = (num_lol / num_sib)\n",
    "\n",
    "if left.is_integer():\n",
    "    print('give away')\n",
    "    \n",
    "else:\n",
    "    print('eat them yourself')"
   ]
  },
  {
   "cell_type": "markdown",
   "id": "d485784e",
   "metadata": {},
   "source": [
    "## Vaccinations"
   ]
  },
  {
   "cell_type": "code",
   "execution_count": 6,
   "id": "5587518e",
   "metadata": {},
   "outputs": [
    {
     "name": "stdout",
     "output_type": "stream",
     "text": [
      "1.25\n",
      "1.25\n"
     ]
    }
   ],
   "source": [
    "import numpy as np\n",
    "vac_nums = [0,0,0,0,0,\\\n",
    "           1,1,1,1,1,1,1,1,\\\n",
    "           2,2,2,2,\\\n",
    "           3,3,3]\n",
    "\n",
    "mean_vac = np.mean(vac_nums)\n",
    "vac_mean = sum(vac_nums)/len(vac_nums)\n",
    "\n",
    "print(mean_vac)\n",
    "print(vac_mean)"
   ]
  },
  {
   "cell_type": "markdown",
   "id": "27fc17c6",
   "metadata": {},
   "source": [
    "## Num of fruits in bowl"
   ]
  },
  {
   "cell_type": "markdown",
   "id": "5f47fc88",
   "metadata": {},
   "source": [
    "You have a bowl on your counter with an even number of pieces of fruit in it. Half of them are bananas, and the other half are apples. You need 3 apples to make a pie. \n",
    "\n",
    "Task:\n",
    "Your task is to evaluate the total number of pies that you can make with the apples that are in your bowl given to total amount of fruit in the bowl.\n",
    "\n",
    "Input Format:\n",
    "An integer that represents the total amount of fruit in the bowl.\n",
    "\n",
    "Output Format:\n",
    "An integer representing the total number of whole apple pies that you can make"
   ]
  },
  {
   "cell_type": "code",
   "execution_count": 37,
   "id": "ae873c7a",
   "metadata": {},
   "outputs": [
    {
     "name": "stdout",
     "output_type": "stream",
     "text": [
      "How many fruits are in the bowl?\n",
      "26\n",
      "\n",
      "Number of apples: 13\n",
      "Number of pies: 4\n",
      "\n"
     ]
    }
   ],
   "source": [
    "bowl = int(input(prompt = 'How many fruits are in the bowl?\\n'))\n",
    "\n",
    "apples = int(bowl / 2)\n",
    "bananas = int(bowl / 2)\n",
    "pie = int(apples / 3)\n",
    "    \n",
    "print(f\"\"\"\n",
    "Number of apples: {apples}\n",
    "Number of pies: {pie}\n",
    "\"\"\")\n"
   ]
  },
  {
   "cell_type": "markdown",
   "id": "c9c42444",
   "metadata": {},
   "source": [
    "## Hovercraft"
   ]
  },
  {
   "cell_type": "markdown",
   "id": "a6817670",
   "metadata": {},
   "source": [
    "You run a hovercraft factory. Your factory makes ten hovercrafts in a month. Given the number of customers you got that month, did you make a profit? It costs you 2,000,000 to build a hovercraft, and you are selling them for 3,000,000. You also pay 1,000,000 each month for insurance.\n",
    "\n",
    "Task: \n",
    "Determine whether or not you made a profit based on how many of the ten hovercrafts you were able to sell that month.\n",
    " \n",
    "Input Format: \n",
    "An integer that represents the sales that you made that month.\n",
    "\n",
    "Output Format: \n",
    "A string that says 'Profit', 'Loss', or 'Broke Even'."
   ]
  },
  {
   "cell_type": "code",
   "execution_count": 57,
   "id": "52ceb65b",
   "metadata": {},
   "outputs": [
    {
     "name": "stdout",
     "output_type": "stream",
     "text": [
      "How many hovercrafts were sold?\n",
      "7\n",
      "\n",
      "Broke Even\n"
     ]
    }
   ],
   "source": [
    "cost = 2000000 * 10\n",
    "revenue = 3000000\n",
    "insurance = 1000000\n",
    "x = int(input(prompt = 'How many hovercrafts were sold?\\n'))\n",
    "\n",
    "profit = x * revenue - cost - insurance\n",
    "\n",
    "if profit > 0 :\n",
    "    print('\\nProfit')\n",
    "    \n",
    "elif profit == 0:\n",
    "    print('\\nBroke Even')\n",
    "    \n",
    "elif profit < 0:\n",
    "    print('\\nLoss')"
   ]
  },
  {
   "cell_type": "markdown",
   "id": "75cbe59d",
   "metadata": {},
   "source": [
    "## Kaleidoscopes"
   ]
  },
  {
   "cell_type": "markdown",
   "id": "c1dbdf07",
   "metadata": {},
   "source": [
    "You sell souvenir kaleidoscopes at a gift shop, and if a customer buys more than one, they get a 10% discount on all of them!\n",
    "Given the total number of kaleidoscopes that a customer buys, let them know what their total will be. Tax is 7%. All of your kaleidoscopes cost the same amount, 5.00.\n",
    "\n",
    "Task: \n",
    "Take the number of kaleidoscopes that a customer buys and output their total cost including tax and any discounts.\n",
    "\n",
    "Input Format: \n",
    "An integer value that represents the number of kaleidoscopes that a customer orders."
   ]
  },
  {
   "cell_type": "code",
   "execution_count": 76,
   "id": "1a835ed5",
   "metadata": {},
   "outputs": [
    {
     "name": "stdout",
     "output_type": "stream",
     "text": [
      "How many kaleidoscopes did the customer buy?\n",
      "4\n",
      "\n",
      "The total to pay after discount and tax is: $19.26\n"
     ]
    }
   ],
   "source": [
    "price = 5\n",
    "tax = 0.07\n",
    "unit = int(input(prompt = 'How many kaleidoscopes did the customer buy?\\n'))\n",
    "\n",
    "if unit <= 1:\n",
    "    total = unit * price * (1 + tax)\n",
    "    \n",
    "elif unit > 1:\n",
    "    total = (unit * price * 0.9) * (1 + tax)\n",
    "    \n",
    "print(f'\\nThe total to pay after discount and tax is: ${total:,.2f}')\n",
    "\n"
   ]
  },
  {
   "cell_type": "markdown",
   "id": "b327ffa9",
   "metadata": {},
   "source": [
    "## Aliens"
   ]
  },
  {
   "cell_type": "markdown",
   "id": "6c0c050d",
   "metadata": {},
   "source": [
    "You meet a group of aliens, and their language is just like English except that they say every word backwards. \n",
    "How will you learn to communicate with them?\n",
    "\n",
    "Task: \n",
    "Take a word in English that you would like to say, and turn it into language that these aliens will understand.\n",
    "\n",
    "Input Format: \n",
    "A string of a word in English.\n",
    "\n",
    "Output Format: \n",
    "A string of the reversed word that represents the original word translated into alien language."
   ]
  },
  {
   "cell_type": "code",
   "execution_count": 81,
   "id": "9202c531",
   "metadata": {},
   "outputs": [
    {
     "name": "stdout",
     "output_type": "stream",
     "text": [
      "What do you want to tell the aliens?\n",
      "Hi !\n",
      "\n",
      "! iH\n"
     ]
    }
   ],
   "source": [
    "word = input(prompt = 'What do you want to tell the aliens?\\n')\n",
    "alien_word = word[::-1]\n",
    "\n",
    "print(f'\\n{alien_word}')"
   ]
  },
  {
   "cell_type": "markdown",
   "id": "cd048374",
   "metadata": {},
   "source": [
    "## Isogram Detector"
   ]
  },
  {
   "cell_type": "markdown",
   "id": "590bbc38",
   "metadata": {},
   "source": [
    "An isogram is a word that has no repeating letters, whether they are consecutive or non-consecutive.  \n",
    "Your job is to find a way to detect if a word is an isogram.\n",
    "\n",
    "Task: Write a program that takes in a string as input, detects if the string is an isogram and outputs true or false based on the result.\n",
    " \n",
    "Input Format: \n",
    "A string containing one word.\n",
    "\n",
    "Output Format:\n",
    "A string: True or False"
   ]
  },
  {
   "cell_type": "code",
   "execution_count": 102,
   "id": "5c04eccf",
   "metadata": {},
   "outputs": [
    {
     "name": "stdout",
     "output_type": "stream",
     "text": [
      "turbulence\n",
      "false\n"
     ]
    }
   ],
   "source": [
    "word  = input()\n",
    "\n",
    "if len(set(word)) == len(word):\n",
    "    print('true')\n",
    "    \n",
    "else:\n",
    "    print('false')"
   ]
  },
  {
   "cell_type": "markdown",
   "id": "cde38f4c",
   "metadata": {},
   "source": [
    "# Medium Challenges"
   ]
  },
  {
   "cell_type": "markdown",
   "id": "fc56264d",
   "metadata": {},
   "source": [
    "## Secret Message"
   ]
  },
  {
   "cell_type": "markdown",
   "id": "39346d8b",
   "metadata": {},
   "source": [
    "You are trying to send a secret message, and you've decided to encode it by replacing every letter in your message with its corresponding letter in a backwards version of the alphabet. \n",
    "What do your messages look like?\n",
    "\n",
    "Task: \n",
    "Create a program that replaces each letter in a message with its corresponding letter in a backwards version of the English alphabet.\n",
    "\n",
    "Input Format: \n",
    "A string of your message in its normal form.\n",
    "\n",
    "Output Format: \n",
    "A string of your message once you have encoded it (all lower case)."
   ]
  },
  {
   "cell_type": "code",
   "execution_count": 343,
   "id": "40765660",
   "metadata": {},
   "outputs": [
    {
     "name": "stdout",
     "output_type": "stream",
     "text": [
      "ambre et xavier\n",
      "znyiv vg czervi"
     ]
    }
   ],
   "source": [
    "#Prompting user to provide a string\n",
    "#Use lower() to transforma any potential uppercase letter\n",
    "word = input().lower()\n",
    "\n",
    "#Defining reciprocal function\n",
    "def reciprocal(word):\n",
    "    \n",
    "    #Defining recipient as a string\n",
    "    reci = ''\n",
    "    \n",
    "    #Looping over each item of the string\n",
    "    for i in range(len(word.lower())):\n",
    "        \n",
    "        #Making sure spaces are replaced by spaces \n",
    "        if word[i] == ' ':\n",
    "            reci += ' '\n",
    "            \n",
    "        else:         \n",
    "        #Adding reciprocical letter of item to the recipient\n",
    "            reci += chr(ord('z') - ord(word[i]) + ord('a'))\n",
    "    \n",
    "    #Returning recipient\n",
    "    print(reci, end=\"\")\n",
    "\n",
    "#Passing 'word' to the reciprocal function\n",
    "reciprocal(word)"
   ]
  },
  {
   "cell_type": "markdown",
   "id": "c698252f",
   "metadata": {},
   "source": [
    "## Convert US date to EU date"
   ]
  },
  {
   "cell_type": "markdown",
   "id": "c0ddde01",
   "metadata": {},
   "source": [
    "You and your friends are going to Europe! You have made plans to travel around Europe with your friends, but one thing you need to take into account so that everything goes according to play, is that the format of their date is different than from what is used in the United States. Your job is to convert all your dates from MM/DD/YYYY to DD/MM/YYYY.\n",
    "\n",
    "Task: \n",
    "Create a function that takes in a string containing a date that is in US format, and return a string of the same date converted to EU.\n",
    "\n",
    "Input Format: \n",
    "A string that contains a date formatting 11/19/2019 or November 19, 2019."
   ]
  },
  {
   "cell_type": "code",
   "execution_count": 345,
   "id": "68321e7a",
   "metadata": {},
   "outputs": [
    {
     "name": "stdout",
     "output_type": "stream",
     "text": [
      "May 18, 2022\n"
     ]
    },
    {
     "data": {
      "text/plain": [
       "'18/5/2022'"
      ]
     },
     "execution_count": 345,
     "metadata": {},
     "output_type": "execute_result"
    }
   ],
   "source": [
    "#Prompting user for the date\n",
    "date = input()\n",
    "\n",
    "def change_date(date):     \n",
    "    \n",
    "    #Converting string date starting with a letter to a time format\n",
    "    if date[0].isalpha():\n",
    "        date = dt.strptime(date, '%B %d, %Y')\n",
    "        #Converting the new time date to the desired format\n",
    "        #Usage of # in the date under Windows OS to remove leading 0\n",
    "        converted = dt.strftime(date, '%#d/%#m/%Y')\n",
    "       \n",
    "    #Converting string date starting with a letter to a time format\n",
    "    else:\n",
    "        date = dt.strptime(date, '%m/%d/%Y')\n",
    "        converted = dt.strftime(date, '%#d/%#m/%Y')\n",
    "    \n",
    "    #Return the desired output\n",
    "    return converted\n",
    "\n",
    "#Passing the date to the function\n",
    "change_date(date)\n",
    "    "
   ]
  },
  {
   "cell_type": "markdown",
   "id": "9fe8b091",
   "metadata": {},
   "source": [
    "## Youtube Links"
   ]
  },
  {
   "cell_type": "markdown",
   "id": "37083b3a",
   "metadata": {},
   "source": [
    "You and your friends like to share YouTube links all throughout the day. You want to keep track of all the videos you watch in your own personal notepad, but you find that keeping the entire link is unnecessary. \n",
    "Keep the video ID (the combination of letters and numbers at the end of the link) in your notepad to slim down the URL.\n",
    "\n",
    "Task: \n",
    "Create a program that parses through a link, extracts and outputs the YouTube video ID.\n",
    "\n",
    "Input Format: \n",
    "A string containing the URL to a YouTube video. The format of the string can be in \"https://www.youtube.com/watch?v=kbxkq_w51PM\" or the shortened \"https://youtu.be/KMBBjzp5hdc\" format.\n",
    "\n",
    "Output Format: \n",
    "A string containing the extracted YouTube video id."
   ]
  },
  {
   "cell_type": "code",
   "execution_count": 346,
   "id": "5d52fd76",
   "metadata": {},
   "outputs": [
    {
     "name": "stdout",
     "output_type": "stream",
     "text": [
      "https://www.youtube.com/watch?v=2eDFjw456AM&ab_channel=StatsWire\n"
     ]
    },
    {
     "data": {
      "text/plain": [
       "'StatsWire'"
      ]
     },
     "execution_count": 346,
     "metadata": {},
     "output_type": "execute_result"
    }
   ],
   "source": [
    "#Importing regular expression library\n",
    "import re\n",
    "\n",
    "#Prompting user to input video link\n",
    "link = input()\n",
    "\n",
    "#Passing the link variable as a reverse list\n",
    "link_reverse = link[::-1]\n",
    "\n",
    "#Separating the reverse list by either / or =\n",
    "link_split = re.split('/|=', link_reverse)\n",
    "\n",
    "#Saving first split element of the link_split into video_id\n",
    "video_id = link_split[0]\n",
    "\n",
    "#Returning the ID to its original order\n",
    "video_id = video_id[::-1]\n",
    "\n",
    "#Returing the video ID\n",
    "video_id"
   ]
  },
  {
   "cell_type": "markdown",
   "id": "cb5eee12",
   "metadata": {},
   "source": [
    "## Pig Latin "
   ]
  },
  {
   "cell_type": "markdown",
   "id": "7cdf2153",
   "metadata": {},
   "source": [
    "You have two friends who are speaking Pig Latin to each other! Pig Latin is the same words in the same order except that you take the first letter of each word and put it on the end, then you add 'ay' to the end of that. (\"road\" = \"oadray\") \n",
    "\n",
    "Task:\n",
    "Your task is to take a sentence in English and turn it into the same sentence in Pig Latin! \n",
    "\n",
    "Input Format:\n",
    "A string of the sentence in English that you need to translate into Pig Latin. (no punctuation or capitalization)\n",
    "\n",
    "Output Format:\n",
    "A string of the same sentence in Pig Latin."
   ]
  },
  {
   "cell_type": "code",
   "execution_count": 408,
   "id": "760dba2d",
   "metadata": {},
   "outputs": [
    {
     "name": "stdout",
     "output_type": "stream",
     "text": [
      "english sentence\n"
     ]
    },
    {
     "data": {
      "text/plain": [
       "'nglisheay entencesay '"
      ]
     },
     "execution_count": 408,
     "metadata": {},
     "output_type": "execute_result"
    }
   ],
   "source": [
    "#Prompting user to input string\n",
    "english_sentence = input()\n",
    "\n",
    "#Separating sentence based on space\n",
    "english_sentence = english_sentence.split(' ')\n",
    "\n",
    "#Defining function pig_latin to transform english_sentence\n",
    "def pig_latin(english_sentence):\n",
    "    \n",
    "    #Defining recipient\n",
    "    sentence = ''\n",
    "    \n",
    "    #Looping over each element of the sentence (list)\n",
    "    for word in english_sentence:\n",
    "        \n",
    "        #Removing first letter, adding it to the end, adding ay, adding space\n",
    "        sentence += word[1:]+word[0]+'ay'+' '\n",
    "    \n",
    "    #Returning output\n",
    "    return sentence\n",
    "\n",
    "#Passing english_sentence to pig_latin function\n",
    "pig_latin(english_sentence)"
   ]
  },
  {
   "cell_type": "markdown",
   "id": "88b35dee",
   "metadata": {},
   "source": [
    "## Day of the Week"
   ]
  },
  {
   "cell_type": "markdown",
   "id": "3a3a1506",
   "metadata": {},
   "source": [
    "You receive a date and need to know what day of the week it is. \n",
    " \n",
    "Task: \n",
    "Create a program that takes in a string containing a date, and outputs the day of the week.\n",
    "\n",
    "Input Format: \n",
    "A string containing a date in either \"MM/DD/YYYY\" format or \"Month Day, Year\" format.\n",
    "\n",
    "Output Format: \n",
    "A string containing the day of the week from the provided date."
   ]
  },
  {
   "cell_type": "code",
   "execution_count": 350,
   "id": "f4c94995",
   "metadata": {},
   "outputs": [
    {
     "name": "stdout",
     "output_type": "stream",
     "text": [
      "February 14, 1964\n"
     ]
    },
    {
     "data": {
      "text/plain": [
       "'Friday'"
      ]
     },
     "execution_count": 350,
     "metadata": {},
     "output_type": "execute_result"
    }
   ],
   "source": [
    "#Calling tie related libraries\n",
    "from datetime import datetime as dt\n",
    "from datetime import date\n",
    "import calendar\n",
    "\n",
    "#Prompting the user to input date\n",
    "date = input()\n",
    "\n",
    "#Defining get_day function\n",
    "def get_day(date):     \n",
    "    \n",
    "    #Converting string date starting with a letter to a time format\n",
    "    if date[0].isalpha():\n",
    "        date = dt.strptime(date, '%B %d, %Y')\n",
    "        #Using calendar with day_name attribute from integer generated by weekday\n",
    "        day = calendar.day_name[date.weekday()]\n",
    "       \n",
    "    #Converting string date starting with a letter to a time format\n",
    "    else:\n",
    "        date = dt.strptime(date, '%m/%d/%Y')\n",
    "        day = calendar.day_name[date.weekday()]\n",
    "    \n",
    "    #Return the desired output\n",
    "    return day\n",
    "\n",
    "#Passing date to get_day function\n",
    "get_day(date)"
   ]
  },
  {
   "cell_type": "markdown",
   "id": "bda0f92d",
   "metadata": {},
   "source": [
    "## Camel to snake"
   ]
  },
  {
   "cell_type": "markdown",
   "id": "b191f6e0",
   "metadata": {},
   "source": [
    "The company you are working for is refactoring its entire codebase. It's changing all naming conventions from camel to snake case (camelCasing to snake_casing). \n",
    "Every capital letter is replaced with its lowercase prefixed by an underscore _, except for the first letter, which is lowercased without the underscore, so that SomeName becomes some_name.\n",
    "\n",
    "Task: \n",
    "Write a program that takes in a string that has camel casing, and outputs the same string but with snake casing.\n",
    "\n",
    "Input Format: \n",
    "A string with camelCasing.\n",
    "\n",
    "Output Format: \n",
    "The same string but with snake_casing."
   ]
  },
  {
   "cell_type": "code",
   "execution_count": 351,
   "id": "95cc21e0",
   "metadata": {},
   "outputs": [
    {
     "name": "stdout",
     "output_type": "stream",
     "text": [
      "AmbreLovesXavierVeryMuch\n"
     ]
    },
    {
     "data": {
      "text/plain": [
       "'ambre_loves_xavier_very_much'"
      ]
     },
     "execution_count": 351,
     "metadata": {},
     "output_type": "execute_result"
    }
   ],
   "source": [
    "#Prompting user to input sentence\n",
    "previous_format = input()\n",
    "\n",
    "#Defining snake_casing function\n",
    "def snake_casing(previous_format):\n",
    "    \n",
    "    #Defining recipient\n",
    "    new = ''\n",
    "    \n",
    "    for i, letter in enumerate(previous_format):\n",
    "        \n",
    "        if i and letter.isupper():\n",
    "            \n",
    "            new += '_'\n",
    "            \n",
    "        new += letter\n",
    "    \n",
    "    #Returning new with lower cases\n",
    "    return new.lower()\n",
    "\n",
    "snake_casing(previous_format)\n",
    "        "
   ]
  },
  {
   "cell_type": "markdown",
   "id": "7b7a929a",
   "metadata": {},
   "source": [
    "## That's odd"
   ]
  },
  {
   "cell_type": "markdown",
   "id": "cf36756d",
   "metadata": {},
   "source": [
    "You want to take a list of numbers and find the sum of all of the even numbers in the list. Ignore any odd numbers.\n",
    "\n",
    "Task:\n",
    "Find the sum of all even integers in a list of numbers.\n",
    "\n",
    "Input Format: \n",
    "The first input denotes the length of the list (N). The next N lines contain the list elements as integers.\n",
    "\n",
    "Output Format: \n",
    "An integer that represents the sum of only the even numbers in the list."
   ]
  },
  {
   "cell_type": "code",
   "execution_count": 406,
   "id": "24f6a8d1",
   "metadata": {},
   "outputs": [
    {
     "name": "stdout",
     "output_type": "stream",
     "text": [
      "Enter list number with spaces\n",
      "1 2 3 4 5 6 7 8 9\n"
     ]
    },
    {
     "data": {
      "text/plain": [
       "20"
      ]
     },
     "execution_count": 406,
     "metadata": {},
     "output_type": "execute_result"
    }
   ],
   "source": [
    "#Prompting user to input list element\n",
    "input_list = input(\"Enter list number with spaces\\n\")\n",
    "\n",
    "#Differentiating each element from space\n",
    "lst = input_list.split()\n",
    "\n",
    "#For loop to convert each element from a string to an int \n",
    "for i in range(0, len(lst)):\n",
    "    \n",
    "    lst[i] = int(lst[i])\n",
    "\n",
    "#Defining add_even function\n",
    "def add_even(lst):\n",
    "    \n",
    "    #Defining recipient\n",
    "    summation = 0 \n",
    "    \n",
    "    #Looping over the elements of the list\n",
    "    for i in range(1, len(lst)):\n",
    "        \n",
    "        #Condition for even numbers\n",
    "        if (lst[i] %2) == 0:\n",
    "            \n",
    "            #Adding by the value of the number\n",
    "            summation += lst[i]\n",
    "    \n",
    "    #Returning sum\n",
    "    return summation\n",
    "\n",
    "#Passing lst to the function\n",
    "add_even(lst)"
   ]
  },
  {
   "cell_type": "markdown",
   "id": "506e12c6",
   "metadata": {},
   "source": [
    "## Average Length"
   ]
  },
  {
   "cell_type": "markdown",
   "id": "14b1b076",
   "metadata": {},
   "source": [
    "You are in a college level English class, your professor wants you to write an essay, but you need to find out the average length of all the words you use. It is up to you to figure out how long each word is and to average it out.\n",
    "\n",
    "Task: \n",
    "Takes in a string, figure out the average length of all the words and return a number representing the average length. Remove all punctuation. Round up to the nearest whole number.\n",
    "\n",
    "Input Format: \n",
    "A string containing multiple words.\n",
    "\n",
    "Output Format: \n",
    "A number representing the average length of each word, rounded up to the nearest whole number."
   ]
  },
  {
   "cell_type": "code",
   "execution_count": 36,
   "id": "391d1292",
   "metadata": {},
   "outputs": [
    {
     "name": "stdout",
     "output_type": "stream",
     "text": [
      "How to find an internship We are in fact the DD I had a year to know what I wanted to do later. My goal was to have all the chances on my side to finally find a job at the end of tomorrow 2nd year. Furthermore, doing an internship would allow me to understand how the American job market works and what its expectations are. That's why I started looking for an internship in August. I discovered first that I was not the only one in this market, and that I had to stand out. So, I played on my European background and my first master's degree in finance. I'm mainly looking for interns in fintech. Why this choice? So that I could link my 2 masters, Finance and Business Analytics, and learn as well in the 2 fields in order to make my choice after my 2nd year. I had found an excellent internship in a fintech but not being familiar with foreign students they didn't understand that I had constraints. My first constraint was my start date; I could not start until October. This was detrimental to me because in the American job market we can start overnight. Then they sent me a contract as if I was a permanent resident, even though I had explained to them that I was on an F1 visa with a CPT. Despite the fact that they took me they stopped answering me and cancelled the contract and I found myself on an internship. That's when I understood that I had to be careful during my interviews to explain my situation and not to consider myself as an employee. I didn't sign all my papers, but this misadventure taught me a lot and I had to bounce back as soon as possible to find an internship. I asked a friend who had done an internship last year for advice and she recommended Impact Business Development Consulting as a business analyst intern. This company had already contacted me on LinkedIn, so I chose to do my internship with them.   The first few months This was not the first time I worked for a company. I had already worked for communication agencies for theaters and associations, but this was the first time I worked in a virtual environment. When you work virtually you have to have a personal rigor. Indeed, we have to stick to our office hours and not let ourselves get distracted. I'm not a person like that, so when I'm given a job, I do it, so it wasn't a problem for me. The problem was much more having office hours at the same time as the others. Indeed, having classes in the evening, bothered me a lot for my internship because my boss had meetings with his clients during the day and in the evening and he made a summary of the tasks to do for the next day. However, in this configuration, the choice of my classes that was imposed on our cohort was not adapted. So, I had to manage between classes and the internship to finally be on time for both. At first, my boss had a hard time understanding that I had classes and homework. Indeed, I always did my tasks before the date requested by my boss, but he systematically added other tasks to finish before the usual ones. Normally this method of working suits me perfectly because in the world of work unexpected things can happen. However, since I only work 15 hours a week for IBDC, I could not complete the traditional tasks without taking time away from my master's work. It took him some time, but he managed to understand that my priority was my master's degree. As the months went by, my tasks became more and more intense, which I enjoyed. In the beginning, I only had to enter data into databases and then as the months went by, I was able to create my databases, analyze them, classify them, order them, and visualize them to create presentations for our clients. I mainly used the 2 tools: Python and Microsoft Excel, because my databases were way too small to use, and python was a better alternative for me than RStudio.   What I remembered Compared to my expectations, my internship did not necessarily bring me new knowledge. However, it allowed me to deepen my skills already acquired during my schooling and my different previous positions. Thus, I was able to discover the American market, the functioning of an international company on the American threshold, and the different stakes that this implies. Indeed, a company on the American threshold is much more conducive to trade. I was more in contact with people coming from all over the world like Italians with the international than a European company more particularly French. I was able to work with people from all over the world: Canadian, Italian, French, American, Belgian, and English. Therefore, I was able to familiarize myself with an international company called the world.  Moreover, I learned that I could be in contradiction with my employer and find a common ground to work better together. It is possible that in my future positions I will perform tasks that I do not necessarily like, but I learned during this internship to always know how to adapt to situations. I would have liked to be in person and not virtual during this internship, but it allowed me to have a foot in my dream city New York. An internship is always a rewarding experience no matter what and I am glad I had the opportunity to do an internship at the same time as my master's degree. \n"
     ]
    },
    {
     "data": {
      "text/plain": [
       "4.485294117647059"
      ]
     },
     "execution_count": 36,
     "metadata": {},
     "output_type": "execute_result"
    }
   ],
   "source": [
    "#Importing math library to round up\n",
    "import math\n",
    "\n",
    "#Prompting user to input senetence\n",
    "string = input()\n",
    "\n",
    "#Splitting for every space and transforming into a list\n",
    "string_split = string.split()\n",
    "\n",
    "#Calculating the length of each word and summing\n",
    "length = sum(len(word) for word in string_split)\n",
    "\n",
    "#Averaging by dividing by the length of the list\n",
    "avg_length = length / len(string_split)\n",
    "\n",
    "#Rounding up to the nearest integer\n",
    "math.ceil(avg_length)"
   ]
  },
  {
   "cell_type": "markdown",
   "id": "da39cee5",
   "metadata": {},
   "source": [
    "## Credit Card Validator"
   ]
  },
  {
   "cell_type": "markdown",
   "id": "c9b50b06",
   "metadata": {},
   "source": [
    "You need to verify if the given credit card number is valid. For that you need to use the Luhn test.\n",
    "\n",
    "Here is the Luhn formula:\n",
    "1. Reverse the number.\n",
    "2. Multiple every second digit by 2. \n",
    "3. Subtract 9 from all numbers higher than 9.\n",
    "4. Add all the digits together.\n",
    "5. Modulo 10 of that sum should be equal to 0. \n",
    "\n",
    "Task: \n",
    "Given a credit card number, validate that it is valid using the Luhn test. Also, all valid cards must have exactly 16 digits.\n",
    "\n",
    "Input Format:\n",
    "A string containing the credit card number you need to verify.\n",
    "\n",
    "Output Format:\n",
    "A string: 'valid' in case the input is a valid credit card number (passes the Luhn test and is 16 digits long), or 'not valid', if it's not."
   ]
  },
  {
   "cell_type": "code",
   "execution_count": 85,
   "id": "bc975314",
   "metadata": {},
   "outputs": [
    {
     "name": "stdout",
     "output_type": "stream",
     "text": [
      "12334\n",
      "not valid\n"
     ]
    }
   ],
   "source": [
    "#Prompting user to input card number\n",
    "credit_card = input()\n",
    "\n",
    "#Changing str lst into int lst\n",
    "credit_split = [int(i) for i in str(credit_card)]\n",
    "\n",
    "#Reversing list\n",
    "credit_split = credit_split[::-1]\n",
    "   \n",
    "#Multiplying every 2 number by 2    \n",
    "credit = [x * 2 if i%2 else x for i, x in enumerate(credit_split)]\n",
    "\n",
    "#For loop to substract nine from figure higher than 9\n",
    "for i in range(0, len(credit)):\n",
    "            \n",
    "            if credit[i] > 9:\n",
    "               \n",
    "               credit[i] = credit[i] - 9\n",
    "\n",
    "#Sum on all the figures\n",
    "credit_sum = sum(credit)\n",
    "\n",
    "#Applying modulo 10\n",
    "if credit_sum %10 == 0:\n",
    "    print('valid')\n",
    "    \n",
    "    \n",
    "else:\n",
    "    print('not valid')\n",
    "\n",
    "    "
   ]
  },
  {
   "cell_type": "markdown",
   "id": "a9171c3a",
   "metadata": {},
   "source": [
    "# Hard Challenges"
   ]
  },
  {
   "cell_type": "markdown",
   "id": "7c373bbb",
   "metadata": {},
   "source": [
    "## New Driver's Licence"
   ]
  },
  {
   "cell_type": "markdown",
   "id": "c00f7700",
   "metadata": {},
   "source": [
    "You have to get a new driver's license and you show up at the office at the same time as 4 other people. The office says that they will see everyone in alphabetical order and it takes 20 minutes for them to process each new license. All of the agents are available now, and they can each see one customer at a time. How long will it take for you to walk out of the office with your new license?\n",
    "\n",
    "Task:\n",
    "Given everyone's name that showed up at the same time, determine how long it will take to get your new license.\n",
    "\n",
    "Input Format:\n",
    "Your input will be a string of your name, then an integer of the number of available agents, and lastly a string of the other four names separated by spaces.\n",
    "\n",
    "Output Format:\n",
    "You will output an integer of the number of minutes that it will take to get your license."
   ]
  },
  {
   "cell_type": "code",
   "execution_count": 135,
   "id": "29f4c62f",
   "metadata": {},
   "outputs": [
    {
     "name": "stdout",
     "output_type": "stream",
     "text": [
      "Xavier\n",
      "2\n",
      "Ambre Zach Edu Denise\n"
     ]
    },
    {
     "data": {
      "text/plain": [
       "40"
      ]
     },
     "execution_count": 135,
     "metadata": {},
     "output_type": "execute_result"
    }
   ],
   "source": [
    "#Importing math library\n",
    "import math\n",
    "\n",
    "#Prompting user to input name\n",
    "your_name = input()\n",
    "\n",
    "#Prompting user to input the number of agents\n",
    "num_agents = int(input())\n",
    "\n",
    "#Prompting the user to input the names of other ppl\n",
    "name_ppl = input().split()\n",
    "\n",
    "#Appending your name to the other list\n",
    "name_ppl.append(your_name)\n",
    "\n",
    "#Sort list\n",
    "name_ppl = sorted(name_ppl)\n",
    "\n",
    "#Because Python start at 0, add 1 to get real position\n",
    "position = 1 + name_ppl.index(your_name)\n",
    "\n",
    "#Round to upper integer \n",
    "waiting = (math.ceil(position/num_agents))*20\n",
    "\n",
    "#Get results\n",
    "waiting\n"
   ]
  },
  {
   "cell_type": "markdown",
   "id": "c35c702b",
   "metadata": {},
   "source": [
    "## Password "
   ]
  },
  {
   "cell_type": "markdown",
   "id": "a964e39a",
   "metadata": {},
   "source": [
    "You're interviewing to join a security team. They want to see you build a password evaluator for your technical interview to validate the input.\n",
    "\n",
    "Task: \n",
    "Write a program that takes in a string as input and evaluates it as a valid password. The password is valid if it has at a minimum 2 numbers, 2 of the following special characters ('!', '@', '#', '$', '%', '&', '*'), and a length of at least 7 characters.\n",
    "If the password passes the check, output 'Strong', else output 'Weak'.\n",
    "\n",
    "Input Format:\n",
    "A string representing the password to evaluate.\n",
    "\n",
    "Output Format:\n",
    "A string that says 'Strong' if the input meets the requirements, or 'Weak', if not."
   ]
  },
  {
   "cell_type": "code",
   "execution_count": 228,
   "id": "fbbf34e5",
   "metadata": {},
   "outputs": [
    {
     "name": "stdout",
     "output_type": "stream",
     "text": [
      "dfasdga65&*\n",
      "Strong\n"
     ]
    }
   ],
   "source": [
    "password = str(input())\n",
    "digit =['1', '2', '3', '4', '5', '6', '7', '8', '9', '0']\n",
    "spe_char = ['!', '@', '#', '$', '%', '&', '*']\n",
    "\n",
    "def has_numbers(password):\n",
    "    \n",
    "    total_digits = 0\n",
    "    \n",
    "    for char in password:\n",
    "        \n",
    "        if char in digit:\n",
    "                \n",
    "            total_digits += 1\n",
    "                \n",
    "    return total_digits\n",
    "                 \n",
    "                      \n",
    "def has_spe_chr(password):\n",
    "    \n",
    "    total_char = 0\n",
    "    \n",
    "    for char in password:\n",
    "        \n",
    "        if char in spe_char:\n",
    "            \n",
    "            total_char += 1\n",
    "            \n",
    "    return total_char\n",
    "\n",
    "\n",
    "if len(password) >= 7 and has_numbers(password) >= 2 and has_spe_chr(password) >= 2:\n",
    "    \n",
    "    print('Strong')\n",
    "    \n",
    "else:\n",
    "    \n",
    "    print('Weak')\n"
   ]
  },
  {
   "cell_type": "markdown",
   "id": "e2174a29",
   "metadata": {},
   "source": [
    "## Security"
   ]
  },
  {
   "cell_type": "markdown",
   "id": "ebbbd55a",
   "metadata": {},
   "source": [
    "You are in charge of security at a casino, and there is a thief who is trying to steal the casino's money!  Look over the security diagrams to make sure that you always have a guard between the thief and the money!\n",
    "There is one money location, one thief, and any number of guards on each floor of the casino.\n",
    "\n",
    "Task: \n",
    "Evaluate a given floor of the casino to determine if there is a guard between the money and the thief, if there is not, you will sound an alarm.\n",
    "\n",
    "Input Format:\n",
    "A string of characters that includes $ (money), T (thief), and G (guard), that represents the layout of the casino floor.  \n",
    "Space on the casino floor that is not occupied by either money, the thief, or a guard is represented by the character x.\n",
    "\n",
    "Output Format: \n",
    "A string that says 'ALARM' if the money is in danger or 'quiet' if the money is safe."
   ]
  },
  {
   "cell_type": "code",
   "execution_count": 3,
   "id": "76593a3c",
   "metadata": {},
   "outputs": [
    {
     "name": "stdout",
     "output_type": "stream",
     "text": [
      "xxxGGTGxx\n",
      "quiet\n"
     ]
    }
   ],
   "source": [
    "#Prompting user to input string\n",
    "place = input()\n",
    "\n",
    "#Deleting all spaces from string\n",
    "place = place.replace('x', '')\n",
    "\n",
    "#If statement based on possible outcome\n",
    "if '$T' in place or 'T$' in place:\n",
    "    print('ALARM')\n",
    "    \n",
    "else:\n",
    "    print('quiet')"
   ]
  },
  {
   "cell_type": "markdown",
   "id": "65580984",
   "metadata": {},
   "source": [
    "## It's a sign"
   ]
  },
  {
   "cell_type": "markdown",
   "id": "45f89175",
   "metadata": {},
   "source": [
    "You work in a sign factory, and the machine has started printing all of the signs backwards! The signs have already been packed into boxes of four signs each. Every letter on every sign is capitalized, so if the original sign was of a palindrome (a word or phrase that is the same backwards and forwards) you can still save those signs and not have to reprint them. Check each box to see if you should open it up to dig out the sign you can save, or if you need to just throw the whole box in the trash.\n",
    "\n",
    "Task: \n",
    "Given the four words that were supposed to be contained in each box, determine if at least one of them is of a palindrome.\n",
    "\n",
    "Input Format: \n",
    "Four strings that represent the word or phrase that was supposed to be printed on the signs inside each box.\n",
    "\n",
    "Output Format: \n",
    "A string that say 'Open' if at least one of the boxes is a palindrome or 'Trash' if all of the signs are misprinted."
   ]
  },
  {
   "cell_type": "code",
   "execution_count": 44,
   "id": "0618fd9d",
   "metadata": {},
   "outputs": [
    {
     "name": "stdout",
     "output_type": "stream",
     "text": [
      "DID YOU SEE THAT?\n",
      "DID\n",
      "YOU\n",
      "SEE\n",
      "THAT?\n"
     ]
    }
   ],
   "source": [
    "boxes = input().split()\n",
    "\n",
    "\n",
    "def palindrome(boxes):\n",
    "    \n",
    "    pal = 0\n",
    "    \n",
    "    for word in boxes:\n",
    "        \n",
    "        if word == word[::-1]:\n",
    "            \n",
    "            pal += 1\n",
    "            \n",
    "    return pal\n",
    "\n",
    "if palindrome(boxes) >= 1:\n",
    "    \n",
    "    print('Open')\n",
    "    \n",
    "else:\n",
    "    \n",
    "    print('Trash')\n",
    "            \n"
   ]
  }
 ],
 "metadata": {
  "kernelspec": {
   "display_name": "Python 3 (ipykernel)",
   "language": "python",
   "name": "python3"
  },
  "language_info": {
   "codemirror_mode": {
    "name": "ipython",
    "version": 3
   },
   "file_extension": ".py",
   "mimetype": "text/x-python",
   "name": "python",
   "nbconvert_exporter": "python",
   "pygments_lexer": "ipython3",
   "version": "3.9.7"
  }
 },
 "nbformat": 4,
 "nbformat_minor": 5
}
